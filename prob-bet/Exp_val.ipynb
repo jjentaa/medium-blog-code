{
  "nbformat": 4,
  "nbformat_minor": 0,
  "metadata": {
    "colab": {
      "provenance": []
    },
    "kernelspec": {
      "name": "python3",
      "display_name": "Python 3"
    },
    "language_info": {
      "name": "python"
    }
  },
  "cells": [
    {
      "cell_type": "code",
      "execution_count": null,
      "metadata": {
        "id": "UZyzzbMSBQnM"
      },
      "outputs": [],
      "source": [
        "import numpy as np\n",
        "import matplotlib.pyplot as plt\n",
        "from tqdm import tqdm"
      ]
    },
    {
      "cell_type": "code",
      "source": [
        "money = 1023\n",
        "\n",
        "while(1024 > money > 0):\n",
        "    rand = np.random.uniform()\n",
        "    if(rand<=0.474):\n",
        "        money += 1\n",
        "    else:\n",
        "        money -= 1"
      ],
      "metadata": {
        "id": "PCkkKmsxF57J"
      },
      "execution_count": null,
      "outputs": []
    },
    {
      "cell_type": "code",
      "source": [
        "money = 1023\n",
        "expVal = 0\n",
        "for i in tqdm(range(100)):\n",
        "    money = 1023\n",
        "\n",
        "    while(1024> money >0):\n",
        "        rand = np.random.uniform()\n",
        "        if(rand<=0.474):\n",
        "            money += 1\n",
        "        else:\n",
        "            money -= 1\n",
        "\n",
        "    expVal += money"
      ],
      "metadata": {
        "colab": {
          "base_uri": "https://localhost:8080/"
        },
        "id": "Uk1CVDwlBUBb",
        "outputId": "a58eed2e-10c0-4b8d-d4b7-ab26ebb4d44a"
      },
      "execution_count": null,
      "outputs": [
        {
          "output_type": "stream",
          "name": "stderr",
          "text": [
            "100%|██████████| 100/100 [00:00<00:00, 141.63it/s]\n"
          ]
        }
      ]
    },
    {
      "cell_type": "code",
      "source": [
        "expVal /= 100\n",
        "print(expVal)"
      ],
      "metadata": {
        "colab": {
          "base_uri": "https://localhost:8080/"
        },
        "id": "0UvWzel2BVRX",
        "outputId": "b3f4208e-5069-40c3-a965-3180e4e1d14e"
      },
      "execution_count": null,
      "outputs": [
        {
          "output_type": "stream",
          "name": "stdout",
          "text": [
            "942.08\n"
          ]
        }
      ]
    },
    {
      "cell_type": "code",
      "source": [
        "expVal = 0\n",
        "n =1000\n",
        "counter = 0\n",
        "for i in tqdm(range(n)):\n",
        "    money =1023\n",
        "    time=0\n",
        "    while(1024>money>0):\n",
        "        rand = np.random.uniform()\n",
        "        if(rand <= 0.474):\n",
        "            money+=2**time\n",
        "        else:\n",
        "            money -= 2**time\n",
        "        time += 1\n",
        "\n",
        "    if(money == 0):\n",
        "        counter+=1\n",
        "    #print(time)\n",
        "    expVal += money\n",
        "print(\"\\nexpVal :\", expVal/n)"
      ],
      "metadata": {
        "colab": {
          "base_uri": "https://localhost:8080/"
        },
        "id": "wgW0Iq0JCa1x",
        "outputId": "717d9d88-e46a-4b9e-a584-ad78a1c1a0c7"
      },
      "execution_count": null,
      "outputs": [
        {
          "output_type": "stream",
          "name": "stderr",
          "text": [
            "100%|██████████| 1000/1000 [00:00<00:00, 108419.17it/s]"
          ]
        },
        {
          "output_type": "stream",
          "name": "stdout",
          "text": [
            "\n",
            "expVal : 1022.976\n"
          ]
        },
        {
          "output_type": "stream",
          "name": "stderr",
          "text": [
            "\n"
          ]
        }
      ]
    },
    {
      "cell_type": "code",
      "source": [
        "expVal = 0\n",
        "n = 10000\n",
        "counter_0_token = 0\n",
        "\n",
        "for i in tqdm(range(n)):\n",
        "    money = 1023\n",
        "\n",
        "    time = 0 # store the number of round\n",
        "    while(1024 > money > 0):\n",
        "        rand = np.random.uniform()\n",
        "\n",
        "        # win\n",
        "        if(rand <= 0.474):\n",
        "            money += 2**time\n",
        "        # lose\n",
        "        else:\n",
        "            money -= 2**time\n",
        "        time += 1\n",
        "\n",
        "    expVal += money\n",
        "\n",
        "    if(money == 0):\n",
        "      counter_0_token += 1"
      ],
      "metadata": {
        "colab": {
          "base_uri": "https://localhost:8080/"
        },
        "id": "8GJyaDXrCbBU",
        "outputId": "6d3c95a3-cf83-442c-cbd3-616f5d26d249"
      },
      "execution_count": null,
      "outputs": [
        {
          "output_type": "stream",
          "name": "stderr",
          "text": [
            "100%|██████████| 10000/10000 [00:00<00:00, 84012.77it/s]\n"
          ]
        }
      ]
    },
    {
      "cell_type": "code",
      "source": [
        "expVal /= 10000\n",
        "print(expVal)"
      ],
      "metadata": {
        "colab": {
          "base_uri": "https://localhost:8080/"
        },
        "id": "VMDoSPYZSTsP",
        "outputId": "08750d8c-9ae1-4aae-ced0-439196505a56"
      },
      "execution_count": null,
      "outputs": [
        {
          "output_type": "stream",
          "name": "stdout",
          "text": [
            "1022.7712\n"
          ]
        }
      ]
    },
    {
      "cell_type": "code",
      "source": [
        "counter_0_token"
      ],
      "metadata": {
        "colab": {
          "base_uri": "https://localhost:8080/"
        },
        "id": "VKLIIqgMSYtT",
        "outputId": "1464b33e-c51d-4723-fb09-a5ae07b5382e"
      },
      "execution_count": null,
      "outputs": [
        {
          "output_type": "execute_result",
          "data": {
            "text/plain": [
              "12"
            ]
          },
          "metadata": {},
          "execution_count": 73
        }
      ]
    },
    {
      "cell_type": "code",
      "source": [
        "import numpy as np\n",
        "\n",
        "pocket = 0\n",
        "pocket_ls = [0]\n",
        "\n",
        "n = 10000\n",
        "\n",
        "for _ in range(n):\n",
        "    d = np.random.randint(low=1, high=7, size=4)\n",
        "\n",
        "    if(6 in d):\n",
        "        pocket -= 10\n",
        "    else:\n",
        "        pocket += 10\n",
        "\n",
        "    pocket_ls.append(pocket)"
      ],
      "metadata": {
        "id": "RBOLDHIqBgqH"
      },
      "execution_count": null,
      "outputs": []
    },
    {
      "cell_type": "code",
      "source": [
        "import matplotlib.pyplot as plt\n",
        "\n",
        "plt.plot(pocket_ls)\n",
        "plt.xlabel(\"number of round (n)\")\n",
        "plt.ylabel(\"money (token)\")\n",
        "plt.show()"
      ],
      "metadata": {
        "colab": {
          "base_uri": "https://localhost:8080/",
          "height": 449
        },
        "id": "vIDhFj3jCoF_",
        "outputId": "400cb24e-1d97-49a7-b888-3d39e226f950"
      },
      "execution_count": null,
      "outputs": [
        {
          "output_type": "display_data",
          "data": {
            "text/plain": [
              "<Figure size 640x480 with 1 Axes>"
            ],
            "image/png": "[encoded data removed]"
          },
          "metadata": {}
        }
      ]
    },
    {
      "cell_type": "code",
      "source": [
        "import numpy as np\n",
        "from tqdm import tqdm\n",
        "\n",
        "n = 1000\n",
        "expVal = 0\n",
        "\n",
        "for i in tqdm(range(n)):\n",
        "    pocket = 1000\n",
        "\n",
        "    while(1000>=pocket>0):\n",
        "        d = np.random.randint(low=1, high=7, size=4)\n",
        "        if(6 in d):\n",
        "            pocket -= 10\n",
        "        else:\n",
        "            pocket += 10\n",
        "\n",
        "    expVal+=pocket\n"
      ],
      "metadata": {
        "colab": {
          "base_uri": "https://localhost:8080/"
        },
        "id": "qKEsnrzrCu3Q",
        "outputId": "991a3425-e1ff-47a7-9993-97b1fbf44544"
      },
      "execution_count": null,
      "outputs": [
        {
          "output_type": "stream",
          "name": "stderr",
          "text": [
            "100%|██████████| 1000/1000 [00:02<00:00, 361.64it/s]\n"
          ]
        }
      ]
    },
    {
      "cell_type": "code",
      "source": [
        "expVal/n"
      ],
      "metadata": {
        "colab": {
          "base_uri": "https://localhost:8080/"
        },
        "id": "rQbV5LdeGn-c",
        "outputId": "3f081786-c6d6-41be-a1df-58579da33900"
      },
      "execution_count": null,
      "outputs": [
        {
          "output_type": "execute_result",
          "data": {
            "text/plain": [
              "931.22"
            ]
          },
          "metadata": {},
          "execution_count": 37
        }
      ]
    },
    {
      "cell_type": "code",
      "source": [
        "txt = \"\"\"รางวัลที่ 1, 6000000, 1, 1 ใน 1000000, 6\n",
        "รางวัลที่ 2, 200000, 5, 5 ใน 1000000, 1\n",
        "รางวัลที่ 3, 80000, 10, 10 ใน 1000000, 0.08\n",
        "รางวัลที่ 4, 40000, 50, 50 ใน 1000000, 2\n",
        "รางวัลที่ 5, 20000, 100, 100 ใน 1000000, 2\n",
        "รางวัลข้างเคียงรางวัลที่ 1, 100000, 2, 2 ใน 1000000, 0.2\n",
        "รางวัลเลขหน้า 3 ตัว(ออก 2 เลข), 4000, 2000, 2000 ใน 1000000, 80\n",
        "รางวัลเลขท้าย 3 ตัว(ออก 2 เลข), 4000, 2000, 2000 ใน 1000000, 80\n",
        "รางวัลเลขท้าย 2 ตัว, 2000, 10000, 10000 ใน 1000000, 20\"\"\"\n",
        "\n",
        "line = txt.split(\"\\n\")\n",
        "\n",
        "expVal = 0\n",
        "\n",
        "for i in line:\n",
        "    ele = i.split(\",\")\n",
        "    p = int(ele[1].strip())-80\n",
        "    n = int(ele[2].strip())\n",
        "    expVal += p*n/1000000\n",
        "\n",
        "expVal += -80*985832/1000000"
      ],
      "metadata": {
        "id": "HZDoUh-DGo7b"
      },
      "execution_count": null,
      "outputs": []
    },
    {
      "cell_type": "code",
      "source": [
        "expVal"
      ],
      "metadata": {
        "colab": {
          "base_uri": "https://localhost:8080/"
        },
        "id": "5s9yLrA_U73G",
        "outputId": "9b0d0f54-c111-4993-f6ed-b8629c6b28fd"
      },
      "execution_count": null,
      "outputs": [
        {
          "output_type": "execute_result",
          "data": {
            "text/plain": [
              "-32.00000000000001"
            ]
          },
          "metadata": {},
          "execution_count": 41
        }
      ]
    }
  ]
}
